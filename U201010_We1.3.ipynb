{
 "cells": [
  {
   "cell_type": "code",
   "execution_count": 2,
   "id": "4d87a1f2",
   "metadata": {},
   "outputs": [],
   "source": [
    "import pandas as pd\n",
    "import numpy as np"
   ]
  },
  {
   "cell_type": "code",
   "execution_count": 3,
   "id": "ea357441",
   "metadata": {},
   "outputs": [
    {
     "data": {
      "text/html": [
       "<div>\n",
       "<style scoped>\n",
       "    .dataframe tbody tr th:only-of-type {\n",
       "        vertical-align: middle;\n",
       "    }\n",
       "\n",
       "    .dataframe tbody tr th {\n",
       "        vertical-align: top;\n",
       "    }\n",
       "\n",
       "    .dataframe thead th {\n",
       "        text-align: right;\n",
       "    }\n",
       "</style>\n",
       "<table border=\"1\" class=\"dataframe\">\n",
       "  <thead>\n",
       "    <tr style=\"text-align: right;\">\n",
       "      <th></th>\n",
       "      <th>Unnamed: 0</th>\n",
       "      <th>default</th>\n",
       "      <th>student</th>\n",
       "      <th>balance</th>\n",
       "      <th>income</th>\n",
       "    </tr>\n",
       "  </thead>\n",
       "  <tbody>\n",
       "    <tr>\n",
       "      <th>0</th>\n",
       "      <td>1</td>\n",
       "      <td>No</td>\n",
       "      <td>No</td>\n",
       "      <td>729.526495</td>\n",
       "      <td>44361.625074</td>\n",
       "    </tr>\n",
       "    <tr>\n",
       "      <th>1</th>\n",
       "      <td>2</td>\n",
       "      <td>No</td>\n",
       "      <td>Yes</td>\n",
       "      <td>817.180407</td>\n",
       "      <td>12106.134700</td>\n",
       "    </tr>\n",
       "    <tr>\n",
       "      <th>2</th>\n",
       "      <td>3</td>\n",
       "      <td>No</td>\n",
       "      <td>No</td>\n",
       "      <td>1073.549164</td>\n",
       "      <td>31767.138947</td>\n",
       "    </tr>\n",
       "    <tr>\n",
       "      <th>3</th>\n",
       "      <td>4</td>\n",
       "      <td>No</td>\n",
       "      <td>No</td>\n",
       "      <td>529.250605</td>\n",
       "      <td>35704.493935</td>\n",
       "    </tr>\n",
       "    <tr>\n",
       "      <th>4</th>\n",
       "      <td>5</td>\n",
       "      <td>No</td>\n",
       "      <td>No</td>\n",
       "      <td>785.655883</td>\n",
       "      <td>38463.495879</td>\n",
       "    </tr>\n",
       "  </tbody>\n",
       "</table>\n",
       "</div>"
      ],
      "text/plain": [
       "   Unnamed: 0 default student      balance        income\n",
       "0           1      No      No   729.526495  44361.625074\n",
       "1           2      No     Yes   817.180407  12106.134700\n",
       "2           3      No      No  1073.549164  31767.138947\n",
       "3           4      No      No   529.250605  35704.493935\n",
       "4           5      No      No   785.655883  38463.495879"
      ]
     },
     "execution_count": 3,
     "metadata": {},
     "output_type": "execute_result"
    }
   ],
   "source": [
    "Default=pd.read_csv('Default.csv',)\n",
    "Default.head()"
   ]
  },
  {
   "cell_type": "code",
   "execution_count": 4,
   "id": "6fc5e039",
   "metadata": {},
   "outputs": [],
   "source": [
    "import statsmodels.formula.api as smf"
   ]
  },
  {
   "cell_type": "code",
   "execution_count": 5,
   "id": "62fbeaac",
   "metadata": {},
   "outputs": [],
   "source": [
    "from sklearn.preprocessing import LabelEncoder\n",
    "from sklearn.neighbors import KNeighborsClassifier"
   ]
  },
  {
   "cell_type": "code",
   "execution_count": 6,
   "id": "6004acaa",
   "metadata": {},
   "outputs": [],
   "source": [
    "le=LabelEncoder()\n",
    "Default['student01'] = le.fit_transform(Default['student'])"
   ]
  },
  {
   "cell_type": "code",
   "execution_count": 7,
   "id": "9d000b07",
   "metadata": {},
   "outputs": [
    {
     "data": {
      "text/html": [
       "<div>\n",
       "<style scoped>\n",
       "    .dataframe tbody tr th:only-of-type {\n",
       "        vertical-align: middle;\n",
       "    }\n",
       "\n",
       "    .dataframe tbody tr th {\n",
       "        vertical-align: top;\n",
       "    }\n",
       "\n",
       "    .dataframe thead th {\n",
       "        text-align: right;\n",
       "    }\n",
       "</style>\n",
       "<table border=\"1\" class=\"dataframe\">\n",
       "  <thead>\n",
       "    <tr style=\"text-align: right;\">\n",
       "      <th></th>\n",
       "      <th>Unnamed: 0</th>\n",
       "      <th>default</th>\n",
       "      <th>student</th>\n",
       "      <th>balance</th>\n",
       "      <th>income</th>\n",
       "      <th>student01</th>\n",
       "      <th>default01</th>\n",
       "    </tr>\n",
       "  </thead>\n",
       "  <tbody>\n",
       "    <tr>\n",
       "      <th>0</th>\n",
       "      <td>1</td>\n",
       "      <td>No</td>\n",
       "      <td>No</td>\n",
       "      <td>729.526495</td>\n",
       "      <td>44361.625074</td>\n",
       "      <td>0</td>\n",
       "      <td>0</td>\n",
       "    </tr>\n",
       "    <tr>\n",
       "      <th>1</th>\n",
       "      <td>2</td>\n",
       "      <td>No</td>\n",
       "      <td>Yes</td>\n",
       "      <td>817.180407</td>\n",
       "      <td>12106.134700</td>\n",
       "      <td>1</td>\n",
       "      <td>0</td>\n",
       "    </tr>\n",
       "    <tr>\n",
       "      <th>2</th>\n",
       "      <td>3</td>\n",
       "      <td>No</td>\n",
       "      <td>No</td>\n",
       "      <td>1073.549164</td>\n",
       "      <td>31767.138947</td>\n",
       "      <td>0</td>\n",
       "      <td>0</td>\n",
       "    </tr>\n",
       "    <tr>\n",
       "      <th>3</th>\n",
       "      <td>4</td>\n",
       "      <td>No</td>\n",
       "      <td>No</td>\n",
       "      <td>529.250605</td>\n",
       "      <td>35704.493935</td>\n",
       "      <td>0</td>\n",
       "      <td>0</td>\n",
       "    </tr>\n",
       "    <tr>\n",
       "      <th>4</th>\n",
       "      <td>5</td>\n",
       "      <td>No</td>\n",
       "      <td>No</td>\n",
       "      <td>785.655883</td>\n",
       "      <td>38463.495879</td>\n",
       "      <td>0</td>\n",
       "      <td>0</td>\n",
       "    </tr>\n",
       "  </tbody>\n",
       "</table>\n",
       "</div>"
      ],
      "text/plain": [
       "   Unnamed: 0 default student      balance        income  student01  default01\n",
       "0           1      No      No   729.526495  44361.625074          0          0\n",
       "1           2      No     Yes   817.180407  12106.134700          1          0\n",
       "2           3      No      No  1073.549164  31767.138947          0          0\n",
       "3           4      No      No   529.250605  35704.493935          0          0\n",
       "4           5      No      No   785.655883  38463.495879          0          0"
      ]
     },
     "execution_count": 7,
     "metadata": {},
     "output_type": "execute_result"
    }
   ],
   "source": [
    "Default['default01'] = (Default.default == 'Yes').astype(int)\n",
    "Default.head()"
   ]
  },
  {
   "cell_type": "code",
   "execution_count": 8,
   "id": "e3a21fef",
   "metadata": {},
   "outputs": [
    {
     "data": {
      "text/html": [
       "<div>\n",
       "<style scoped>\n",
       "    .dataframe tbody tr th:only-of-type {\n",
       "        vertical-align: middle;\n",
       "    }\n",
       "\n",
       "    .dataframe tbody tr th {\n",
       "        vertical-align: top;\n",
       "    }\n",
       "\n",
       "    .dataframe thead th {\n",
       "        text-align: right;\n",
       "    }\n",
       "</style>\n",
       "<table border=\"1\" class=\"dataframe\">\n",
       "  <thead>\n",
       "    <tr style=\"text-align: right;\">\n",
       "      <th></th>\n",
       "      <th>Unnamed: 0</th>\n",
       "      <th>default</th>\n",
       "      <th>student</th>\n",
       "      <th>balance</th>\n",
       "      <th>income</th>\n",
       "      <th>student01</th>\n",
       "      <th>default01</th>\n",
       "    </tr>\n",
       "  </thead>\n",
       "  <tbody>\n",
       "    <tr>\n",
       "      <th>0</th>\n",
       "      <td>8001</td>\n",
       "      <td>No</td>\n",
       "      <td>No</td>\n",
       "      <td>304.146598</td>\n",
       "      <td>23866.935858</td>\n",
       "      <td>0</td>\n",
       "      <td>0</td>\n",
       "    </tr>\n",
       "    <tr>\n",
       "      <th>1</th>\n",
       "      <td>8002</td>\n",
       "      <td>No</td>\n",
       "      <td>No</td>\n",
       "      <td>353.631131</td>\n",
       "      <td>40686.760148</td>\n",
       "      <td>0</td>\n",
       "      <td>0</td>\n",
       "    </tr>\n",
       "    <tr>\n",
       "      <th>2</th>\n",
       "      <td>8003</td>\n",
       "      <td>No</td>\n",
       "      <td>No</td>\n",
       "      <td>1269.420335</td>\n",
       "      <td>39010.148187</td>\n",
       "      <td>0</td>\n",
       "      <td>0</td>\n",
       "    </tr>\n",
       "    <tr>\n",
       "      <th>3</th>\n",
       "      <td>8004</td>\n",
       "      <td>No</td>\n",
       "      <td>Yes</td>\n",
       "      <td>397.542488</td>\n",
       "      <td>22710.865740</td>\n",
       "      <td>1</td>\n",
       "      <td>0</td>\n",
       "    </tr>\n",
       "    <tr>\n",
       "      <th>4</th>\n",
       "      <td>8005</td>\n",
       "      <td>No</td>\n",
       "      <td>No</td>\n",
       "      <td>607.166271</td>\n",
       "      <td>49547.465816</td>\n",
       "      <td>0</td>\n",
       "      <td>0</td>\n",
       "    </tr>\n",
       "  </tbody>\n",
       "</table>\n",
       "</div>"
      ],
      "text/plain": [
       "   Unnamed: 0 default student      balance        income  student01  default01\n",
       "0        8001      No      No   304.146598  23866.935858          0          0\n",
       "1        8002      No      No   353.631131  40686.760148          0          0\n",
       "2        8003      No      No  1269.420335  39010.148187          0          0\n",
       "3        8004      No     Yes   397.542488  22710.865740          1          0\n",
       "4        8005      No      No   607.166271  49547.465816          0          0"
      ]
     },
     "execution_count": 8,
     "metadata": {},
     "output_type": "execute_result"
    }
   ],
   "source": [
    "Default_train=Default.head(int(len(Default)*0.8)).reset_index(drop=True)\n",
    "Default_test=Default.tail(len(Default) - int(len(Default)*0.8)).reset_index(drop=True)\n",
    "Default_test.head()"
   ]
  },
  {
   "cell_type": "code",
   "execution_count": 9,
   "id": "17928c79",
   "metadata": {},
   "outputs": [
    {
     "data": {
      "text/plain": [
       "KNeighborsClassifier(n_neighbors=7)"
      ]
     },
     "execution_count": 9,
     "metadata": {},
     "output_type": "execute_result"
    }
   ],
   "source": [
    "k=7\n",
    "model = KNeighborsClassifier(n_neighbors=k)\n",
    "model.fit(Default_train[['balance','income','student01']],Default_train['default'])"
   ]
  },
  {
   "cell_type": "code",
   "execution_count": 10,
   "id": "a636b800",
   "metadata": {},
   "outputs": [],
   "source": [
    "Default_train['pred_label_knn']=model.predict(Default_train[['balance','income','student01']])\n",
    "Default_test['pred_label_knn']=model.predict(Default_test[['balance','income','student01']])"
   ]
  },
  {
   "cell_type": "code",
   "execution_count": 11,
   "id": "c4e93a2f",
   "metadata": {},
   "outputs": [
    {
     "data": {
      "text/plain": [
       "0.031000000000000028"
      ]
     },
     "execution_count": 11,
     "metadata": {},
     "output_type": "execute_result"
    }
   ],
   "source": [
    "accuracy_rate=sum(Default_test['pred_label_knn']==Default_test['default'])/len(Default_test)\n",
    "ER=1-accuracy_rate\n",
    "ER"
   ]
  },
  {
   "cell_type": "code",
   "execution_count": 12,
   "id": "90602f63",
   "metadata": {},
   "outputs": [],
   "source": [
    "Default_train['pred_prob_knn']=model.predict_proba(Default_train[['balance','income','student01']])[:,1]\n",
    "Default_test['pred_prob_knn']=model.predict_proba(Default_test[['balance','income','student01']])[:,1]"
   ]
  },
  {
   "cell_type": "code",
   "execution_count": 13,
   "id": "5266fde5",
   "metadata": {},
   "outputs": [],
   "source": [
    "from sklearn.metrics import *"
   ]
  },
  {
   "cell_type": "code",
   "execution_count": 14,
   "id": "c5214d4a",
   "metadata": {},
   "outputs": [
    {
     "data": {
      "text/plain": [
       "0.821806641906865"
      ]
     },
     "execution_count": 14,
     "metadata": {},
     "output_type": "execute_result"
    }
   ],
   "source": [
    "roc_auc_score(y_true=Default_test['default'],y_score = Default_test['pred_prob_knn'])"
   ]
  },
  {
   "cell_type": "markdown",
   "id": "f2dd424f",
   "metadata": {},
   "source": [
    "# 逻辑回归"
   ]
  },
  {
   "cell_type": "code",
   "execution_count": 15,
   "id": "5d99d01e",
   "metadata": {},
   "outputs": [],
   "source": [
    "import statsmodels.formula.api as s"
   ]
  },
  {
   "cell_type": "code",
   "execution_count": 16,
   "id": "81d8ff88",
   "metadata": {},
   "outputs": [
    {
     "data": {
      "text/plain": [
       "0       False\n",
       "1       False\n",
       "2       False\n",
       "3       False\n",
       "4       False\n",
       "        ...  \n",
       "9995    False\n",
       "9996    False\n",
       "9997    False\n",
       "9998    False\n",
       "9999    False\n",
       "Name: default, Length: 10000, dtype: bool"
      ]
     },
     "execution_count": 16,
     "metadata": {},
     "output_type": "execute_result"
    }
   ],
   "source": [
    "Default.default == 'Yes'"
   ]
  },
  {
   "cell_type": "code",
   "execution_count": 17,
   "id": "0f47aca8",
   "metadata": {},
   "outputs": [
    {
     "data": {
      "text/html": [
       "<div>\n",
       "<style scoped>\n",
       "    .dataframe tbody tr th:only-of-type {\n",
       "        vertical-align: middle;\n",
       "    }\n",
       "\n",
       "    .dataframe tbody tr th {\n",
       "        vertical-align: top;\n",
       "    }\n",
       "\n",
       "    .dataframe thead th {\n",
       "        text-align: right;\n",
       "    }\n",
       "</style>\n",
       "<table border=\"1\" class=\"dataframe\">\n",
       "  <thead>\n",
       "    <tr style=\"text-align: right;\">\n",
       "      <th></th>\n",
       "      <th>Unnamed: 0</th>\n",
       "      <th>default</th>\n",
       "      <th>student</th>\n",
       "      <th>balance</th>\n",
       "      <th>income</th>\n",
       "      <th>student01</th>\n",
       "      <th>default01</th>\n",
       "    </tr>\n",
       "  </thead>\n",
       "  <tbody>\n",
       "    <tr>\n",
       "      <th>0</th>\n",
       "      <td>1</td>\n",
       "      <td>No</td>\n",
       "      <td>No</td>\n",
       "      <td>729.526495</td>\n",
       "      <td>44361.625074</td>\n",
       "      <td>0</td>\n",
       "      <td>0</td>\n",
       "    </tr>\n",
       "    <tr>\n",
       "      <th>1</th>\n",
       "      <td>2</td>\n",
       "      <td>No</td>\n",
       "      <td>Yes</td>\n",
       "      <td>817.180407</td>\n",
       "      <td>12106.134700</td>\n",
       "      <td>1</td>\n",
       "      <td>0</td>\n",
       "    </tr>\n",
       "    <tr>\n",
       "      <th>2</th>\n",
       "      <td>3</td>\n",
       "      <td>No</td>\n",
       "      <td>No</td>\n",
       "      <td>1073.549164</td>\n",
       "      <td>31767.138947</td>\n",
       "      <td>0</td>\n",
       "      <td>0</td>\n",
       "    </tr>\n",
       "    <tr>\n",
       "      <th>3</th>\n",
       "      <td>4</td>\n",
       "      <td>No</td>\n",
       "      <td>No</td>\n",
       "      <td>529.250605</td>\n",
       "      <td>35704.493935</td>\n",
       "      <td>0</td>\n",
       "      <td>0</td>\n",
       "    </tr>\n",
       "    <tr>\n",
       "      <th>4</th>\n",
       "      <td>5</td>\n",
       "      <td>No</td>\n",
       "      <td>No</td>\n",
       "      <td>785.655883</td>\n",
       "      <td>38463.495879</td>\n",
       "      <td>0</td>\n",
       "      <td>0</td>\n",
       "    </tr>\n",
       "  </tbody>\n",
       "</table>\n",
       "</div>"
      ],
      "text/plain": [
       "   Unnamed: 0 default student      balance        income  student01  default01\n",
       "0           1      No      No   729.526495  44361.625074          0          0\n",
       "1           2      No     Yes   817.180407  12106.134700          1          0\n",
       "2           3      No      No  1073.549164  31767.138947          0          0\n",
       "3           4      No      No   529.250605  35704.493935          0          0\n",
       "4           5      No      No   785.655883  38463.495879          0          0"
      ]
     },
     "execution_count": 17,
     "metadata": {},
     "output_type": "execute_result"
    }
   ],
   "source": [
    "Default['default01'] = (Default.default == 'Yes').astype(int)\n",
    "Default.head()"
   ]
  },
  {
   "cell_type": "code",
   "execution_count": 18,
   "id": "3410998a",
   "metadata": {},
   "outputs": [
    {
     "name": "stdout",
     "output_type": "stream",
     "text": [
      "Optimization terminated successfully.\n",
      "         Current function value: 0.078577\n",
      "         Iterations 10\n",
      "                           Logit Regression Results                           \n",
      "==============================================================================\n",
      "Dep. Variable:              default01   No. Observations:                10000\n",
      "Model:                          Logit   Df Residuals:                     9996\n",
      "Method:                           MLE   Df Model:                            3\n",
      "Date:                Sat, 04 Dec 2021   Pseudo R-squ.:                  0.4619\n",
      "Time:                        11:03:40   Log-Likelihood:                -785.77\n",
      "converged:                       True   LL-Null:                       -1460.3\n",
      "Covariance Type:            nonrobust   LLR p-value:                3.257e-292\n",
      "==================================================================================\n",
      "                     coef    std err          z      P>|z|      [0.025      0.975]\n",
      "----------------------------------------------------------------------------------\n",
      "Intercept        -10.8690      0.492    -22.079      0.000     -11.834      -9.904\n",
      "student[T.Yes]    -0.6468      0.236     -2.738      0.006      -1.110      -0.184\n",
      "balance            0.0057      0.000     24.737      0.000       0.005       0.006\n",
      "income          3.033e-06    8.2e-06      0.370      0.712    -1.3e-05    1.91e-05\n",
      "==================================================================================\n",
      "\n",
      "Possibly complete quasi-separation: A fraction 0.15 of observations can be\n",
      "perfectly predicted. This might indicate that there is complete\n",
      "quasi-separation. In this case some parameters will not be identified.\n"
     ]
    }
   ],
   "source": [
    "results = smf.logit('default01 ~ balance + student + income', data=Default).fit()\n",
    "print(results.summary())"
   ]
  },
  {
   "cell_type": "code",
   "execution_count": 19,
   "id": "11dadb20",
   "metadata": {},
   "outputs": [
    {
     "data": {
      "text/html": [
       "<div>\n",
       "<style scoped>\n",
       "    .dataframe tbody tr th:only-of-type {\n",
       "        vertical-align: middle;\n",
       "    }\n",
       "\n",
       "    .dataframe tbody tr th {\n",
       "        vertical-align: top;\n",
       "    }\n",
       "\n",
       "    .dataframe thead th {\n",
       "        text-align: right;\n",
       "    }\n",
       "</style>\n",
       "<table border=\"1\" class=\"dataframe\">\n",
       "  <thead>\n",
       "    <tr style=\"text-align: right;\">\n",
       "      <th></th>\n",
       "      <th>Unnamed: 0</th>\n",
       "      <th>default</th>\n",
       "      <th>student</th>\n",
       "      <th>balance</th>\n",
       "      <th>income</th>\n",
       "      <th>student01</th>\n",
       "      <th>default01</th>\n",
       "    </tr>\n",
       "  </thead>\n",
       "  <tbody>\n",
       "    <tr>\n",
       "      <th>0</th>\n",
       "      <td>8001</td>\n",
       "      <td>No</td>\n",
       "      <td>No</td>\n",
       "      <td>304.146598</td>\n",
       "      <td>23866.935858</td>\n",
       "      <td>0</td>\n",
       "      <td>0</td>\n",
       "    </tr>\n",
       "    <tr>\n",
       "      <th>1</th>\n",
       "      <td>8002</td>\n",
       "      <td>No</td>\n",
       "      <td>No</td>\n",
       "      <td>353.631131</td>\n",
       "      <td>40686.760148</td>\n",
       "      <td>0</td>\n",
       "      <td>0</td>\n",
       "    </tr>\n",
       "    <tr>\n",
       "      <th>2</th>\n",
       "      <td>8003</td>\n",
       "      <td>No</td>\n",
       "      <td>No</td>\n",
       "      <td>1269.420335</td>\n",
       "      <td>39010.148187</td>\n",
       "      <td>0</td>\n",
       "      <td>0</td>\n",
       "    </tr>\n",
       "    <tr>\n",
       "      <th>3</th>\n",
       "      <td>8004</td>\n",
       "      <td>No</td>\n",
       "      <td>Yes</td>\n",
       "      <td>397.542488</td>\n",
       "      <td>22710.865740</td>\n",
       "      <td>1</td>\n",
       "      <td>0</td>\n",
       "    </tr>\n",
       "    <tr>\n",
       "      <th>4</th>\n",
       "      <td>8005</td>\n",
       "      <td>No</td>\n",
       "      <td>No</td>\n",
       "      <td>607.166271</td>\n",
       "      <td>49547.465816</td>\n",
       "      <td>0</td>\n",
       "      <td>0</td>\n",
       "    </tr>\n",
       "  </tbody>\n",
       "</table>\n",
       "</div>"
      ],
      "text/plain": [
       "   Unnamed: 0 default student      balance        income  student01  default01\n",
       "0        8001      No      No   304.146598  23866.935858          0          0\n",
       "1        8002      No      No   353.631131  40686.760148          0          0\n",
       "2        8003      No      No  1269.420335  39010.148187          0          0\n",
       "3        8004      No     Yes   397.542488  22710.865740          1          0\n",
       "4        8005      No      No   607.166271  49547.465816          0          0"
      ]
     },
     "execution_count": 19,
     "metadata": {},
     "output_type": "execute_result"
    }
   ],
   "source": [
    "Default_train=Default.head(int(len(Default)*0.8)).reset_index(drop=True)\n",
    "Default_test=Default.tail(len(Default) - int(len(Default)*0.8)).reset_index(drop=True)\n",
    "Default_test.head()"
   ]
  },
  {
   "cell_type": "code",
   "execution_count": 20,
   "id": "ced22f6e",
   "metadata": {},
   "outputs": [
    {
     "name": "stdout",
     "output_type": "stream",
     "text": [
      "Optimization terminated successfully.\n",
      "         Current function value: 0.077231\n",
      "         Iterations 10\n",
      "                           Logit Regression Results                           \n",
      "==============================================================================\n",
      "Dep. Variable:              default01   No. Observations:                 8000\n",
      "Model:                          Logit   Df Residuals:                     7996\n",
      "Method:                           MLE   Df Model:                            3\n",
      "Date:                Sat, 04 Dec 2021   Pseudo R-squ.:                  0.4705\n",
      "Time:                        11:03:40   Log-Likelihood:                -617.85\n",
      "converged:                       True   LL-Null:                       -1166.9\n",
      "Covariance Type:            nonrobust   LLR p-value:                9.276e-238\n",
      "==================================================================================\n",
      "                     coef    std err          z      P>|z|      [0.025      0.975]\n",
      "----------------------------------------------------------------------------------\n",
      "Intercept        -11.1808      0.564    -19.837      0.000     -12.285     -10.076\n",
      "student[T.Yes]    -0.6034      0.271     -2.223      0.026      -1.135      -0.071\n",
      "balance            0.0059      0.000     22.029      0.000       0.005       0.006\n",
      "income          5.614e-06   9.38e-06      0.599      0.549   -1.28e-05     2.4e-05\n",
      "==================================================================================\n",
      "\n",
      "Possibly complete quasi-separation: A fraction 0.16 of observations can be\n",
      "perfectly predicted. This might indicate that there is complete\n",
      "quasi-separation. In this case some parameters will not be identified.\n"
     ]
    }
   ],
   "source": [
    "results = smf.logit('default01 ~ balance + student + income', data=Default_train).fit()\n",
    "print(results.summary())"
   ]
  },
  {
   "cell_type": "code",
   "execution_count": 21,
   "id": "84204a10",
   "metadata": {},
   "outputs": [
    {
     "name": "stdout",
     "output_type": "stream",
     "text": [
      "Optimization terminated successfully.\n",
      "         Current function value: 0.078577\n",
      "         Iterations 10\n",
      "                           Logit Regression Results                           \n",
      "==============================================================================\n",
      "Dep. Variable:              default01   No. Observations:                10000\n",
      "Model:                          Logit   Df Residuals:                     9996\n",
      "Method:                           MLE   Df Model:                            3\n",
      "Date:                Sat, 04 Dec 2021   Pseudo R-squ.:                  0.4619\n",
      "Time:                        11:03:41   Log-Likelihood:                -785.77\n",
      "converged:                       True   LL-Null:                       -1460.3\n",
      "Covariance Type:            nonrobust   LLR p-value:                3.257e-292\n",
      "==================================================================================\n",
      "                     coef    std err          z      P>|z|      [0.025      0.975]\n",
      "----------------------------------------------------------------------------------\n",
      "Intercept        -10.8690      0.492    -22.079      0.000     -11.834      -9.904\n",
      "student[T.Yes]    -0.6468      0.236     -2.738      0.006      -1.110      -0.184\n",
      "balance            0.0057      0.000     24.737      0.000       0.005       0.006\n",
      "income          3.033e-06    8.2e-06      0.370      0.712    -1.3e-05    1.91e-05\n",
      "==================================================================================\n",
      "\n",
      "Possibly complete quasi-separation: A fraction 0.15 of observations can be\n",
      "perfectly predicted. This might indicate that there is complete\n",
      "quasi-separation. In this case some parameters will not be identified.\n"
     ]
    }
   ],
   "source": [
    "results_mul = smf.logit('default01 ~ student+balance+income', data=Default).fit()\n",
    "print(results_mul.summary())"
   ]
  },
  {
   "cell_type": "code",
   "execution_count": 22,
   "id": "220f9215",
   "metadata": {},
   "outputs": [],
   "source": [
    "default_prob_pred=results_mul.predict(Default)\n",
    "default_pred=(default_prob_pred>0.5).astype(int)"
   ]
  },
  {
   "cell_type": "code",
   "execution_count": 23,
   "id": "efbddf9a",
   "metadata": {},
   "outputs": [
    {
     "data": {
      "text/plain": [
       "0.026800000000000046"
      ]
     },
     "execution_count": 23,
     "metadata": {},
     "output_type": "execute_result"
    }
   ],
   "source": [
    "accuracy_rate=sum(default_pred==Default['default01'])/len(Default)\n",
    "accuracy_rate\n",
    "ER2=1-accuracy_rate\n",
    "ER2"
   ]
  },
  {
   "cell_type": "code",
   "execution_count": 24,
   "id": "ed8fed64",
   "metadata": {},
   "outputs": [
    {
     "data": {
      "text/plain": [
       "0.6555887634815947"
      ]
     },
     "execution_count": 24,
     "metadata": {},
     "output_type": "execute_result"
    }
   ],
   "source": [
    "roc_auc_score(y_true=Default['default01'],y_score = default_pred)"
   ]
  }
 ],
 "metadata": {
  "kernelspec": {
   "display_name": "Python 3 (ipykernel)",
   "language": "python",
   "name": "python3"
  },
  "language_info": {
   "codemirror_mode": {
    "name": "ipython",
    "version": 3
   },
   "file_extension": ".py",
   "mimetype": "text/x-python",
   "name": "python",
   "nbconvert_exporter": "python",
   "pygments_lexer": "ipython3",
   "version": "3.8.1"
  }
 },
 "nbformat": 4,
 "nbformat_minor": 5
}
